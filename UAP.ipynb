{
 "cells": [
  {
   "cell_type": "markdown",
   "metadata": {
    "id": "EjAUXJHbDdQw"
   },
   "source": [
    "## Models"
   ]
  },
  {
   "cell_type": "code",
   "execution_count": 2,
   "metadata": {
    "colab": {
     "base_uri": "https://localhost:8080/"
    },
    "id": "UFpEUd98CfSa",
    "outputId": "7a6ed236-b7d8-41ed-bedd-c2af1c3b2be8"
   },
   "outputs": [],
   "source": [
    "import model_CIFAR10\n",
    "import model_CIFAR100\n",
    "import torch\n",
    "from pytorchcv.model_provider import get_model as ptcv_get_model\n",
    "\n",
    "model_1 = model_CIFAR10.inceptionv4()\n",
    "model_1.load_state_dict(torch.load('./models_param/inceptionv4_cifar10.pth'))\n",
    "model_2 = model_CIFAR10.resnet152()\n",
    "model_2.load_state_dict(torch.load('./models_param/resnet152_cifar10.pth'))\n",
    "model_3 = model_CIFAR10.vgg19_bn()\n",
    "model_3.load_state_dict(torch.load('./models_param/vgg19_cifar10.pth'))\n",
    "\n",
    "model_4 = model_CIFAR100.inceptionv4()\n",
    "model_4.load_state_dict(torch.load('./models_param/inceptionv4_cifar100.pth'))\n",
    "model_5 = model_CIFAR100.resnet152()\n",
    "model_5.load_state_dict(torch.load('./models_param/resnet152_cifar100.pth'))\n",
    "model_6 = model_CIFAR100.vgg19_bn()\n",
    "model_6.load_state_dict(torch.load('./models_param/vgg19_cifar100.pth'))\n",
    "\n",
    "cifar10_models = [model_1, model_2, model_3]\n",
    "cifar100_models = [model_4, model_5, model_6]"
   ]
  },
  {
   "cell_type": "markdown",
   "metadata": {
    "id": "_WNeTCzNFHxb"
   },
   "source": [
    "## Dataset"
   ]
  },
  {
   "cell_type": "markdown",
   "metadata": {},
   "source": [
    "### CIFAR 10"
   ]
  },
  {
   "cell_type": "code",
   "execution_count": 3,
   "metadata": {
    "colab": {
     "base_uri": "https://localhost:8080/"
    },
    "id": "Gc-1uKCvFKgk",
    "outputId": "8c3d284e-863d-4a07-8b66-6684eb88dcf9"
   },
   "outputs": [
    {
     "name": "stdout",
     "output_type": "stream",
     "text": [
      "Files already downloaded and verified\n",
      "Files already downloaded and verified\n"
     ]
    }
   ],
   "source": [
    "import numpy as np\n",
    "import torchvision\n",
    "import torchvision.transforms as transforms\n",
    "from torch.utils.data import SubsetRandomSampler\n",
    "\n",
    "X_size = 10000\n",
    "\n",
    "CIFAR10_mean = (0.491, 0.482, 0.447)\n",
    "CIFAR10_std = (0.202, 0.199, 0.201)\n",
    "\n",
    "transform_cifar10 = transforms.Compose([\n",
    "    transforms.ToTensor(),\n",
    "    transforms.Normalize(mean=CIFAR10_mean, std=CIFAR10_std),\n",
    "])\n",
    "\n",
    "dataset_cifar10 = torchvision.datasets.CIFAR10(\n",
    "    root='./cifar-10', train=True, download=True, transform=transform_cifar10)\n",
    "dataset_cifar10_test = torchvision.datasets.CIFAR10(\n",
    "    root='./cifar-10', train=False, download=True, transform=transform_cifar10)\n",
    "\n",
    "indicies = list(range(len(dataset_cifar10)))\n",
    "np.random.seed(12)\n",
    "np.random.shuffle(indicies)\n",
    "\n",
    "dataloader_cifar10 = torch.utils.data.DataLoader(\n",
    "    dataset_cifar10, batch_size=16, num_workers=2, sampler=SubsetRandomSampler(indicies[:X_size]))\n",
    "dataloader_cifar10_test = torch.utils.data.DataLoader(\n",
    "    dataset_cifar10_test, batch_size=16, num_workers=2)\n"
   ]
  },
  {
   "cell_type": "markdown",
   "metadata": {},
   "source": [
    "### CIFAR 100"
   ]
  },
  {
   "cell_type": "code",
   "execution_count": null,
   "metadata": {},
   "outputs": [],
   "source": [
    "import numpy as np\n",
    "import torchvision\n",
    "import torchvision.transforms as transforms\n",
    "from torch.utils.data import SubsetRandomSampler\n",
    "\n",
    "X_size = 10000\n",
    "\n",
    "cifar100_mean = (0.507, 0.487, 0.441)\n",
    "cifar100_std = (0.267, 0.256, 0.276)\n",
    "\n",
    "transform_cifar100 = transforms.Compose([\n",
    "    transforms.ToTensor(),\n",
    "    transforms.Normalize(mean=cifar100_mean, std=cifar100_std),\n",
    "])\n",
    "\n",
    "dataset_cifar100 = torchvision.datasets.CIFAR100(\n",
    "    root='./cifar-100', train=True, download=True, transform=transform_cifar100)\n",
    "dataset_cifar100_test = torchvision.datasets.CIFAR100(\n",
    "    root='./cifar-100', train=False, download=True, transform=transform_cifar100)\n",
    "\n",
    "indicies = list(range(len(dataset_cifar100)))\n",
    "np.random.seed(12)\n",
    "np.random.shuffle(indicies)\n",
    "\n",
    "dataloader_cifar100 = torch.utils.data.DataLoader(\n",
    "    dataset_cifar100, batch_size=16, num_workers=2, sampler=SubsetRandomSampler(indicies[:X_size]))\n",
    "dataloader_cifar100_test = torch.utils.data.DataLoader(\n",
    "    dataset_cifar100_test, batch_size=16, num_workers=2)\n"
   ]
  },
  {
   "cell_type": "code",
   "execution_count": 5,
   "metadata": {
    "colab": {
     "base_uri": "https://localhost:8080/"
    },
    "id": "K0fkd-Q_JWa0",
    "outputId": "26aa552b-b9b3-44cd-88a5-0cf352131de9"
   },
   "outputs": [
    {
     "name": "stdout",
     "output_type": "stream",
     "text": [
      "0.9516\n",
      "0.9547\n",
      "0.9361\n"
     ]
    }
   ],
   "source": [
    "for model_idx in range(3):\n",
    "    cifar10_models[model_idx].cuda()\n",
    "    cifar10_models[model_idx].eval()\n",
    "    total = 0\n",
    "    correct = 0\n",
    "    for (inputs, targets) in dataloader_cifar10_test:\n",
    "        outputs = cifar10_models[model_idx](inputs.cuda())\n",
    "        _, predict = outputs.max(1)\n",
    "        total += targets.size(0)\n",
    "        correct += predict.cpu().eq(targets).sum().item()\n",
    "    print(correct/total)"
   ]
  },
  {
   "cell_type": "markdown",
   "metadata": {
    "id": "4iMMMrwSFBbt"
   },
   "source": [
    "## UAP"
   ]
  },
  {
   "cell_type": "code",
   "execution_count": null,
   "metadata": {
    "colab": {
     "base_uri": "https://localhost:8080/",
     "height": 533
    },
    "id": "RaDyHCaNE7U7",
    "outputId": "9fbb24cd-ea43-420f-8e88-05c988e354f0"
   },
   "outputs": [
    {
     "name": "stdout",
     "output_type": "stream",
     "text": [
      "Downloading C:\\Users\\Howard\\.torch\\models\\resnet110_cifar10-0369-4d6ca1fc.pth.zip from https://github.com/osmr/imgclsmob/releases/download/v0.0.163/resnet110_cifar10-0369-4d6ca1fc.pth.zip...\n"
     ]
    },
    {
     "name": "stderr",
     "output_type": "stream",
     "text": [
      "      33%|███████████████████▉                                        | 3317/10000 [41:32<1:10:40,  1.58it/s]"
     ]
    }
   ],
   "source": [
    "from deepfool import deepfool\n",
    "from tqdm import tqdm\n",
    "\n",
    "delta = 0.5\n",
    "eps = 10\n",
    "eps = eps/255/torch.Tensor([0.2023, 0.1994, 0.2010])\n",
    "\n",
    "uap = torch.zeros(dataset_cifar10[0][0].shape).cuda()\n",
    "acc = 100\n",
    "\n",
    "for model_idx in range(3):\n",
    "    cifar10_models[model_idx].cuda()\n",
    "\n",
    "min_acc = 100    \n",
    "\n",
    "for j, model in enumerate([ptcv_get_model('resnet110_cifar10', pretrained=True).cuda()]):\n",
    "    model.eval()\n",
    "    iters=0\n",
    "    while acc > delta:\n",
    "        progress = tqdm(total=X_size, position=0, leave=True, bar_format='{desc:<5.5}{percentage:3.0f}%|{bar:60}{r_bar}')\n",
    "        for inputs, labels in dataloader_cifar10:\n",
    "            inputs, labels = inputs.cuda(), labels.cuda()\n",
    "            outputs = model(inputs+uap.cuda())\n",
    "            _, predict = outputs.max(1)\n",
    "            for i in range(inputs.shape[0]):\n",
    "                if predict[i] == labels[i]:\n",
    "                    uap = uap.cuda()\n",
    "                    r,iter_df,_,_,_ = deepfool(inputs[i]+uap, model, outputs.shape[-1], overshoot=0.02, max_iter=50)\n",
    "                    uap = uap.cpu()\n",
    "                    if iter_df < 50-1:\n",
    "                        uap[0,:,:] = torch.clamp(uap[0,:,:] + r[0, 0,:,:], min=-eps[0].item(), max=eps[0].item())\n",
    "                        uap[1,:,:] = torch.clamp(uap[1,:,:] + r[0, 1,:,:], min=-eps[1].item(), max=eps[1].item())\n",
    "                        uap[2,:,:] = torch.clamp(uap[2,:,:] + r[0, 2,:,:], min=-eps[2].item(), max=eps[2].item())\n",
    "                progress.update(1)\n",
    "\n",
    "        total = 0\n",
    "        correct = 0\n",
    "\n",
    "        for (inputs, targets) in dataloader_cifar10_test:\n",
    "            outputs = model(inputs.cuda()+uap.cuda())\n",
    "            _, predict = outputs.max(1)\n",
    "            total += targets.size(0)\n",
    "            correct += predict.cpu().eq(targets).sum().item()\n",
    "\n",
    "        acc = correct/total\n",
    "        print('Accuracy after UAP: %.3f %%' % (acc*100))\n",
    "        progress.close()\n",
    "        iters+=1\n",
    "        if iters > 3:\n",
    "            break\n",
    "        if acc < min_acc:\n",
    "            min_acc = acc\n",
    "#             torch.save(uap.cpu().detach(), 'model_'+str(j+1)+'_uap_cifar10.pth')\n",
    "    print(\"============= Model %d UAP generated ==============\" % (i))"
   ]
  },
  {
   "cell_type": "code",
   "execution_count": null,
   "metadata": {},
   "outputs": [],
   "source": [
    "from deepfool import deepfool\n",
    "from tqdm import tqdm\n",
    "\n",
    "delta = 0.2\n",
    "eps = 10\n",
    "eps = eps/255/torch.Tensor(cifar100_std)\n",
    "\n",
    "for model_idx in range(3):\n",
    "    cifar100_models[model_idx].cuda()\n",
    "    \n",
    "uap = torch.zeros(dataset_cifar100[0][0].shape).cuda()\n",
    "acc = 100\n",
    "for i, model in enumerate(cifar100_models):\n",
    "    model.eval()\n",
    "    iters = 0\n",
    "    while acc > delta:\n",
    "        progress = tqdm(total=X_size, position=0, leave=True, bar_format='{desc:<5.5}{percentage:3.0f}%|{bar:60}{r_bar}')\n",
    "        for inputs, labels in dataloader_cifar100:\n",
    "            inputs, labels = inputs.cuda(), labels.cuda()\n",
    "            outputs = model(inputs+uap.cuda())\n",
    "            _, predict = outputs.max(1)\n",
    "            for i in range(inputs.shape[0]):\n",
    "                if predict[i] == labels[i]:\n",
    "                    uap = uap.cuda()\n",
    "                    r,iter_df,_,_,_ = deepfool(inputs[i]+uap, model, outputs.shape[-1], overshoot=0.02, max_iter=50)\n",
    "                    uap = uap.cpu()\n",
    "                    if iter_df < 50-1:\n",
    "                        uap[0,:,:] = torch.clamp(uap[0,:,:] + r[0, 0,:,:], min=-eps[0].item(), max=eps[0].item())\n",
    "                        uap[1,:,:] = torch.clamp(uap[1,:,:] + r[0, 1,:,:], min=-eps[1].item(), max=eps[1].item())\n",
    "                        uap[2,:,:] = torch.clamp(uap[2,:,:] + r[0, 2,:,:], min=-eps[2].item(), max=eps[2].item())\n",
    "                progress.update(1)\n",
    "\n",
    "        total = 0\n",
    "        correct = 0\n",
    "\n",
    "        for (inputs, targets) in dataloader_cifar100_test:\n",
    "            outputs = model(inputs.cuda()+uap.cuda())\n",
    "            _, predict = outputs.max(1)\n",
    "            total += targets.size(0)\n",
    "            correct += predict.cpu().eq(targets).sum().item()\n",
    "\n",
    "        acc = correct/total\n",
    "        print('Accuracy after UAP: %.3f %%' % (acc*100))\n",
    "        progress.close()\n",
    "        iters+=1\n",
    "        if iters > 20:\n",
    "            break\n",
    "    torch.save(uap.cpu().detach(), 'model_'+str(i+1)+'_uap_cifar100.pth')"
   ]
  },
  {
   "cell_type": "code",
   "execution_count": 10,
   "metadata": {
    "id": "iVk5vsDiPBWh"
   },
   "outputs": [
    {
     "name": "stdout",
     "output_type": "stream",
     "text": [
      "Accuracy after UAP: 68.540 %\n"
     ]
    }
   ],
   "source": [
    "uap = torch.load(\"./model_1_uap_cifar10.pth\")\n",
    "for model in [ptcv_get_model('resnet20_cifar10', pretrained=True).cuda()]:#cifar10_models:\n",
    "    model.eval()\n",
    "    total = 0\n",
    "    correct = 0\n",
    "\n",
    "    \n",
    "    \n",
    "    for (inputs, targets) in dataloader_cifar10_test:\n",
    "        outputs = model(inputs.cuda()+uap.cuda())\n",
    "        _, predict = outputs.max(1)\n",
    "        total += targets.size(0)\n",
    "        correct += predict.cpu().eq(targets).sum().item()\n",
    "    acc = correct/total\n",
    "    print('Accuracy after UAP: %.3f %%' % (acc*100))"
   ]
  },
  {
   "cell_type": "code",
   "execution_count": null,
   "metadata": {},
   "outputs": [],
   "source": []
  },
  {
   "cell_type": "code",
   "execution_count": null,
   "metadata": {},
   "outputs": [],
   "source": []
  }
 ],
 "metadata": {
  "accelerator": "GPU",
  "colab": {
   "collapsed_sections": [],
   "name": "UAP.ipynb",
   "provenance": []
  },
  "kernelspec": {
   "display_name": "Python 3",
   "language": "python",
   "name": "python3"
  },
  "language_info": {
   "codemirror_mode": {
    "name": "ipython",
    "version": 3
   },
   "file_extension": ".py",
   "mimetype": "text/x-python",
   "name": "python",
   "nbconvert_exporter": "python",
   "pygments_lexer": "ipython3",
   "version": "3.8.5"
  }
 },
 "nbformat": 4,
 "nbformat_minor": 1
}
